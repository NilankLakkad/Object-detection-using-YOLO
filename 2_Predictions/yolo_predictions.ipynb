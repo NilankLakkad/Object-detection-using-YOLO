{
 "cells": [
  {
   "cell_type": "code",
   "execution_count": 2,
   "id": "a12f8ecc-7ad2-40f4-810b-c7e551052b52",
   "metadata": {},
   "outputs": [],
   "source": [
    "import cv2\n",
    "import numpy as np\n",
    "import os\n",
    "import yaml\n",
    "from yaml.loader import SafeLoader"
   ]
  },
  {
   "cell_type": "code",
   "execution_count": 3,
   "id": "8a10f5ff-a0b3-4c1d-b185-0f6d961e642a",
   "metadata": {},
   "outputs": [
    {
     "name": "stdout",
     "output_type": "stream",
     "text": [
      "['person', 'car', 'chair', 'dog', 'diningtable', 'bottle', 'cat', 'bus', 'tvmonitor', 'boat', 'bicycle', 'bird', 'aeroplane', 'sheep', 'sofa', 'horse', 'motorbike', 'pottedplant', 'train', 'cow']\n"
     ]
    }
   ],
   "source": [
    "with open('data.yaml', mode='r') as f:\n",
    "    data_yaml = yaml.load(f, Loader=SafeLoader)\n",
    "\n",
    "labels = data_yaml['names']\n",
    "print(labels)"
   ]
  },
  {
   "cell_type": "code",
   "execution_count": 4,
   "id": "fb4aa42d-c48f-408e-a4a6-8fac9cdb905d",
   "metadata": {},
   "outputs": [],
   "source": [
    "yolo = cv2.dnn.readNetFromONNX('./Model/weights/best.onnx')\n",
    "yolo.setPreferableBackend (cv2.dnn.DNN_BACKEND_OPENCV)\n",
    "yolo.setPreferableTarget(cv2.dnn.DNN_TARGET_CPU)"
   ]
  },
  {
   "cell_type": "code",
   "execution_count": 5,
   "id": "764bef4f-87e4-4227-ac15-40b7f196cd8c",
   "metadata": {},
   "outputs": [],
   "source": [
    "# Load the image\n",
    "img = cv2.imread('./street_image.jpg')\n",
    "image = img.copy()\n",
    "row, col, d = image.shape\n",
    "\n",
    "max_rc = max(row, col)\n",
    "input_image = np.zeros ((max_rc,max_rc,3),dtype=np.uint8)\n",
    "input_image[0:row,0:col] = image\n",
    "\n",
    "INPUT_WH_YOLO = 640\n",
    "blob = cv2.dnn.blobFromImage(input_image,1/255,(INPUT_WH_YOLO, INPUT_WH_YOLO), swapRB=True, crop=False)\n",
    "yolo.setInput(blob)\n",
    "preds = yolo. forward() "
   ]
  },
  {
   "cell_type": "code",
   "execution_count": 6,
   "id": "eeaf504d-2898-4478-b54f-668e29399e91",
   "metadata": {},
   "outputs": [
    {
     "name": "stdout",
     "output_type": "stream",
     "text": [
      "(1, 25200, 25)\n"
     ]
    }
   ],
   "source": [
    "print(preds.shape)"
   ]
  },
  {
   "cell_type": "code",
   "execution_count": 7,
   "id": "8533c615-ba9e-4ae4-b676-e8b4c8339d64",
   "metadata": {},
   "outputs": [],
   "source": [
    "detections = preds[0]\n",
    "boxes = []\n",
    "confidences = []\n",
    "classes = []\n",
    "\n",
    "image_w, image_h = input_image.shape[:2]\n",
    "x_factor = image_w/INPUT_WH_YOLO\n",
    "y_factor = image_h/INPUT_WH_YOLO\n",
    "\n",
    "for i in range(len(detections)):\n",
    "    row = detections[i]\n",
    "    confidence = row[4] \n",
    "    if confidence > 0:\n",
    "        class_score = row[5:].max() \n",
    "        class_id = row[5:].argmax() \n",
    "\n",
    "        if class_score > 0:\n",
    "            cx, cy, w, h = row[0:4]\n",
    "            \n",
    "            left = int((cx - 0.5*w)*x_factor)\n",
    "            top = int((cy - 0.5*h)*y_factor)\n",
    "            width = int(w*x_factor)\n",
    "            height = int(h*y_factor)\n",
    "\n",
    "            box = np.array([left,top,width,height])\n",
    "\n",
    "            confidences.append(confidence)\n",
    "            boxes.append(box)\n",
    "            classes.append(class_id)\n",
    "\n",
    "# clean\n",
    "boxes_np = np.array(boxes).tolist()\n",
    "confidences_np = np.array(confidences).tolist()\n",
    "\n",
    "# NMS\n",
    "index = cv2.dnn.NMSBoxes(boxes_np,confidences_np,0.25,0.45).flatten()"
   ]
  },
  {
   "cell_type": "code",
   "execution_count": 8,
   "id": "cd162ba8-c760-46e9-b240-eea6f2a22f92",
   "metadata": {},
   "outputs": [
    {
     "data": {
      "text/plain": [
       "array([23018, 19863], dtype=int32)"
      ]
     },
     "execution_count": 8,
     "metadata": {},
     "output_type": "execute_result"
    }
   ],
   "source": [
    "index"
   ]
  },
  {
   "cell_type": "code",
   "execution_count": 9,
   "id": "c9abd614-1d3b-4fc8-82fe-c7df60acf4d5",
   "metadata": {},
   "outputs": [],
   "source": [
    "for ind in index:\n",
    "    x,y,w,h = boxes_np[ind]\n",
    "    bb_conf = int(confidences_np[ind]*100)\n",
    "    classes_id = classes[ind]\n",
    "    class_name = labels[classes_id]\n",
    "\n",
    "    text = f'{class_name}: {bb_conf}%'\n",
    "\n",
    "    cv2.rectangle (image,(x,y), (x+w,y+h), (0,255,0) ,2) \n",
    "    cv2.rectangle(image,(x,y-30), (x+w,y), (255,255,255),-1)\n",
    "    \n",
    "    cv2.putText(image, text, (x,y-10), cv2.FONT_HERSHEY_PLAIN, 0.7, (0,0,0),1)"
   ]
  },
  {
   "cell_type": "code",
   "execution_count": 10,
   "id": "401717d1-72dd-4ff5-99cb-7fdc85faa7d4",
   "metadata": {},
   "outputs": [],
   "source": [
    "cv2.imshow('original', img)\n",
    "cv2.imshow('yolo_prediction', image) \n",
    "cv2.waitKey(0)\n",
    "cv2.destroyAllWindows()"
   ]
  }
 ],
 "metadata": {
  "kernelspec": {
   "display_name": "Python 3 (ipykernel)",
   "language": "python",
   "name": "python3"
  },
  "language_info": {
   "codemirror_mode": {
    "name": "ipython",
    "version": 3
   },
   "file_extension": ".py",
   "mimetype": "text/x-python",
   "name": "python",
   "nbconvert_exporter": "python",
   "pygments_lexer": "ipython3",
   "version": "3.12.5"
  }
 },
 "nbformat": 4,
 "nbformat_minor": 5
}
